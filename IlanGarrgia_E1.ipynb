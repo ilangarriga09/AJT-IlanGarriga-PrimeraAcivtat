{
 "cells": [
  {
   "cell_type": "markdown",
   "id": "0d24533e",
   "metadata": {},
   "source": [
    "Exercici 1. Enters\n"
   ]
  },
  {
   "cell_type": "code",
   "execution_count": 5,
   "id": "5611f049",
   "metadata": {},
   "outputs": [
    {
     "name": "stdout",
     "output_type": "stream",
     "text": [
      "8.35\n",
      "41.75\n",
      "2955.9\n"
     ]
    }
   ],
   "source": [
    "Preu_entrada = 8.35\n",
    "nombre_enrtrades = 1\n",
    "cost_total = Preu_entrada * nombre_enrtrades\n",
    "print(cost_total)\n",
    "Preu_entrada = 8.35\n",
    "nombre_enrtrades = 5\n",
    "cost_total = Preu_entrada * nombre_enrtrades\n",
    "print(cost_total)\n",
    "Preu_entrada = 8.35\n",
    "nombre_enrtrades = 354\n",
    "cost_total = Preu_entrada * nombre_enrtrades\n",
    "print(cost_total)"
   ]
  },
  {
   "cell_type": "code",
   "execution_count": 18,
   "id": "0ec77a4c",
   "metadata": {},
   "outputs": [
    {
     "name": "stdout",
     "output_type": "stream",
     "text": [
      "54.108000000000004\n"
     ]
    }
   ],
   "source": [
    "nombre_enrtrades = 6\n",
    "nombre_enrtrades_retornades = 4\n",
    "precentatge = 88/100\n",
    "Diners_retornats = nombre_enrtrades_retornades*Preu_entrada * precentatge\n",
    "Diners_totals = (nombre_enrtrades+nombre_enrtrades_retornades)*Preu_entrada - Diners_retornats\n",
    "print(Diners_totals)"
   ]
  },
  {
   "cell_type": "markdown",
   "id": "4e952756",
   "metadata": {},
   "source": [
    "Exercici 2. A continuació"
   ]
  },
  {
   "cell_type": "code",
   "execution_count": 30,
   "id": "5eca4b3a",
   "metadata": {},
   "outputs": [
    {
     "name": "stdout",
     "output_type": "stream",
     "text": [
      "58.51985059900009\n"
     ]
    }
   ],
   "source": [
    "Inf_in=10\n",
    "pob=1000\n",
    "T = 0.01\n",
    "t = 5\n",
    "Inf_totals = Inf_in+(pob-Inf_in)*(1-(1-T)**t)\n",
    "print(Inf_totals)"
   ]
  },
  {
   "cell_type": "markdown",
   "id": "7c9b925a",
   "metadata": {},
   "source": [
    "Exercici 3 . Àrea, perimetre i volum"
   ]
  },
  {
   "cell_type": "code",
   "execution_count": 44,
   "id": "fdd03349",
   "metadata": {},
   "outputs": [
    {
     "name": "stdout",
     "output_type": "stream",
     "text": [
      "Pel radi 4, el perimetre és 25.13 m, l'àrea és 50.27 m2, i el volum és 268.08 m3 \n",
      "Pel radi 2, el perimetre és 12.57 m, l'àrea és 12.57 m2, i el volum és 33.51 m3 \n"
     ]
    }
   ],
   "source": [
    "import math\n",
    "r = 4\n",
    "pi = math.pi\n",
    "P = 2*r*math.pi\n",
    "A = pi*r**2\n",
    "V = 4/3 *pi*r**3\n",
    "print(f\"Pel radi {round(r,2)}, el perimetre és {round(P,2)} m, l'àrea és {round(A,2)} m2, i el volum és {round(V,2)} m3 \")\n",
    "r = 2\n",
    "pi = math.pi\n",
    "P = 2*r*math.pi\n",
    "A = pi*r**2\n",
    "V = 4/3 *pi*r**3\n",
    "print(f\"Pel radi {round(r,2)}, el perimetre és {round(P,2)} m, l'àrea és {round(A,2)} m2, i el volum és {round(V,2)} m3 \")\n",
    "\n"
   ]
  },
  {
   "cell_type": "code",
   "execution_count": null,
   "id": "49554d7b",
   "metadata": {},
   "outputs": [],
   "source": []
  },
  {
   "cell_type": "markdown",
   "id": "2446620f",
   "metadata": {},
   "source": [
    "Exercici 4. El teu nom"
   ]
  },
  {
   "cell_type": "code",
   "execution_count": 55,
   "id": "c3e41244",
   "metadata": {},
   "outputs": [
    {
     "name": "stdout",
     "output_type": "stream",
     "text": [
      "Hola, el meu nom és Ilan Garriga Colomer \n",
      "La primera lletre del meu nom és I \n",
      "L'ultima lletra del meu nom és r\n",
      "Els tres caràcters entre la posició 2 i la posició 5 són: an  \n",
      "El meu nom, amb espais, té 20 caràcters\n",
      "El meu en majúsculas es veu així:ILAN GARRIGA COLOMER\n",
      "El neu nom en minúsculas es veu així: ilan garriga colomer\n"
     ]
    }
   ],
   "source": [
    "Nom = 'Ilan Garriga Colomer' \n",
    "primera_lletra = Nom[0]\n",
    "ultima_lletra = Nom[-1]\n",
    "tres_lletres = Nom[2:5]\n",
    "nom_M = Nom.upper()\n",
    "nom_m = Nom.lower()\n",
    "llargada_nom = len(Nom)\n",
    "print(f\"Hola, el meu nom és {Nom} \\nLa primera lletre del meu nom és {primera_lletra} \\nL'ultima lletra del meu nom és {ultima_lletra}\\nEls tres caràcters entre la posició 2 i la posició 5 són: {tres_lletres} \\nEl meu nom, amb espais, té {llargada_nom} caràcters\\nEl meu en majúsculas es veu així:{nom_M}\\nEl neu nom en minúsculas es veu així: {nom_m}\")"
   ]
  }
 ],
 "metadata": {
  "kernelspec": {
   "display_name": "Python 3",
   "language": "python",
   "name": "python3"
  },
  "language_info": {
   "codemirror_mode": {
    "name": "ipython",
    "version": 3
   },
   "file_extension": ".py",
   "mimetype": "text/x-python",
   "name": "python",
   "nbconvert_exporter": "python",
   "pygments_lexer": "ipython3",
   "version": "3.13.7"
  }
 },
 "nbformat": 4,
 "nbformat_minor": 5
}
